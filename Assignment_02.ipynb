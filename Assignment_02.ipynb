{
  "cells": [
    {
      "cell_type": "markdown",
      "metadata": {
        "id": "view-in-github",
        "colab_type": "text"
      },
      "source": [
        "<a href=\"https://colab.research.google.com/github/Aayush-Khatri-12/Python_basics_assignment-02/blob/main/Assignment_02.ipynb\" target=\"_parent\"><img src=\"https://colab.research.google.com/assets/colab-badge.svg\" alt=\"Open In Colab\"/></a>"
      ]
    },
    {
      "cell_type": "markdown",
      "metadata": {
        "id": "McIRYTQ4IQP1"
      },
      "source": [
        "# Q. Write a python program to sort the list of heterogeneous data.\n",
        "e.g.\n",
        "\n",
        "L = [\"Ram\", 1, \"Shyam\", 2, \"Aman\", 3]\n",
        "\n",
        "print(L)\n",
        "\n",
        "L.sort()\n",
        "\n",
        "print(L)\n",
        "\n",
        "Above code gives error. Correct it."
      ]
    },
    {
      "cell_type": "code",
      "execution_count": null,
      "metadata": {
        "colab": {
          "base_uri": "https://localhost:8080/"
        },
        "id": "AMdiV1O1A293",
        "outputId": "05aff026-b157-4cce-8497-350172244e5d"
      },
      "outputs": [
        {
          "output_type": "stream",
          "name": "stdout",
          "text": [
            "['Ram', 1, 'Shyam', 2, 'Aman', 3, [1, 2], 19.0, 1.5, [3, 4], [1, 3], [1, 4, 3], [1, 3, 5]]\n",
            "[[1, 2], [1, 3], [1, 3, 5], [1, 4, 3], [3, 4], 1, 1.5, 2, 3, 19.0, 'Aman', 'Ram', 'Shyam']\n"
          ]
        }
      ],
      "source": [
        "def sort_key(item):\n",
        "  if isinstance(item,str):\n",
        "    return (2,item)\n",
        "  elif isinstance(item,int):\n",
        "    return (1,item)\n",
        "  elif isinstance(item,float):\n",
        "    return (1,item)\n",
        "  else:\n",
        "    return (0,item)\n",
        "L = [\"Ram\", 1, \"Shyam\", 2, \"Aman\", 3, [1,2], 19.0, 1.5, [3,4] , [1,3], [1,4,3], [1,3,5]]\n",
        "print(L)\n",
        "L.sort(key=sort_key)\n",
        "print(L)"
      ]
    }
  ],
  "metadata": {
    "colab": {
      "provenance": [],
      "authorship_tag": "ABX9TyNZteUBg3DpdlWLc+yKGs2V",
      "include_colab_link": true
    },
    "kernelspec": {
      "display_name": "Python 3",
      "name": "python3"
    },
    "language_info": {
      "name": "python"
    }
  },
  "nbformat": 4,
  "nbformat_minor": 0
}